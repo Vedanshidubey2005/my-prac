{
 "cells": [
  {
   "cell_type": "code",
   "execution_count": 1,
   "id": "c3af3035",
   "metadata": {},
   "outputs": [
    {
     "name": "stdout",
     "output_type": "stream",
     "text": [
      "['maths', 'science', 'hindi']\n"
     ]
    }
   ],
   "source": [
    "subject=['maths','science','hindi']\n",
    "print(subject)\n"
   ]
  },
  {
   "cell_type": "code",
   "execution_count": 3,
   "id": "a30baaee",
   "metadata": {},
   "outputs": [
    {
     "name": "stdout",
     "output_type": "stream",
     "text": [
      "science\n",
      "<class 'list'>\n"
     ]
    }
   ],
   "source": [
    "print(subject[1])\n",
    "print(type(subject))\n"
   ]
  },
  {
   "cell_type": "code",
   "execution_count": 4,
   "id": "c13b5f0b",
   "metadata": {},
   "outputs": [
    {
     "name": "stdout",
     "output_type": "stream",
     "text": [
      "['v', 15, 'r', 's', 9.76, 't', 'u', ['vd', '2005']]\n"
     ]
    }
   ],
   "source": [
    "subject_diff=['v',15,'r','s',9.76,'t','u',['vd','2005']]\n",
    "print(subject_diff)"
   ]
  },
  {
   "cell_type": "code",
   "execution_count": 5,
   "id": "3fe12282",
   "metadata": {},
   "outputs": [
    {
     "name": "stdout",
     "output_type": "stream",
     "text": [
      "maths\n",
      "science\n",
      "hindi\n"
     ]
    }
   ],
   "source": [
    "subject=['maths','science','hindi']\n",
    "for names in subject:\n",
    "  print(names)"
   ]
  },
  {
   "cell_type": "code",
   "execution_count": 6,
   "id": "0ba61786",
   "metadata": {},
   "outputs": [
    {
     "name": "stdout",
     "output_type": "stream",
     "text": [
      "[[1, 25, 45], [31, 15, 11], [2, 4, 6]]\n"
     ]
    }
   ],
   "source": [
    "matrix=[[1,25,45],[ 31,15,11],[2,4,6]]\n",
    "print(matrix)"
   ]
  },
  {
   "cell_type": "code",
   "execution_count": 8,
   "id": "85c08ffa",
   "metadata": {},
   "outputs": [
    {
     "name": "stdout",
     "output_type": "stream",
     "text": [
      "[[1, 25, 45], [31, 15, 11], [2, 4, 6]]\n",
      "\n",
      "\n",
      " 1 11 4\n",
      "[[1, 25, 45], [31, 15, 11], [2, 4, 6]]\n",
      "\n",
      "\n",
      " 1 11 4\n",
      "[[1, 25, 45], [31, 15, 11], [2, 4, 6]]\n",
      "\n",
      "\n",
      " 1 11 4\n"
     ]
    }
   ],
   "source": [
    "for row in matrix:\n",
    "    print(matrix)\n",
    "    print('\\n\\n',matrix[0][0], matrix[1][2], matrix[2][1])\n"
   ]
  },
  {
   "cell_type": "code",
   "execution_count": 13,
   "id": "a3cb2ce3",
   "metadata": {},
   "outputs": [
    {
     "name": "stdout",
     "output_type": "stream",
     "text": [
      "('vedanshi', 'data', 15, 0.4)\n",
      "<class 'tuple'>\n",
      "0.4\n"
     ]
    }
   ],
   "source": [
    "# tuple \n",
    "my=('vedanshi','data', 15, 0.4,)\n",
    "print(my)\n",
    "print(type(my))\n",
    "print(my[3])"
   ]
  },
  {
   "cell_type": "code",
   "execution_count": 14,
   "id": "af27544b",
   "metadata": {},
   "outputs": [
    {
     "name": "stdout",
     "output_type": "stream",
     "text": [
      "<class 'tuple'>\n",
      "<class 'str'>\n"
     ]
    }
   ],
   "source": [
    "tuple1 = (\"apple\",)\n",
    "print(type(tuple1))\n",
    "#NOT a tuple\n",
    "tuple2 = (\"apple\")\n",
    "print(type(tuple2))"
   ]
  },
  {
   "cell_type": "code",
   "execution_count": 15,
   "id": "da5b3066",
   "metadata": {},
   "outputs": [],
   "source": [
    "#dictionary\n"
   ]
  },
  {
   "cell_type": "code",
   "execution_count": 16,
   "id": "15d7ddf1",
   "metadata": {},
   "outputs": [
    {
     "name": "stdout",
     "output_type": "stream",
     "text": [
      "{1: 'Sati', 2: 'CSE', 3: 'B', 4: '33008'}\n"
     ]
    }
   ],
   "source": [
    "a={1:'Sati',2:'CSE',3:'B',4:'33008'}\n",
    "print(a)"
   ]
  },
  {
   "cell_type": "code",
   "execution_count": 17,
   "id": "ac3a8bfe",
   "metadata": {},
   "outputs": [
    {
     "data": {
      "text/plain": [
       "dict_keys([1, 2, 3, 4])"
      ]
     },
     "execution_count": 17,
     "metadata": {},
     "output_type": "execute_result"
    }
   ],
   "source": [
    "a.keys()"
   ]
  },
  {
   "cell_type": "code",
   "execution_count": 18,
   "id": "15657b6d",
   "metadata": {},
   "outputs": [
    {
     "data": {
      "text/plain": [
       "dict_values(['Sati', 'CSE', 'B', '33008'])"
      ]
     },
     "execution_count": 18,
     "metadata": {},
     "output_type": "execute_result"
    }
   ],
   "source": [
    "a.values()"
   ]
  },
  {
   "cell_type": "code",
   "execution_count": 19,
   "id": "73660514",
   "metadata": {},
   "outputs": [
    {
     "name": "stdout",
     "output_type": "stream",
     "text": [
      "dict_items([(1, 'Sati'), (2, 'CSE'), (3, 'B'), (4, '33008')])\n"
     ]
    }
   ],
   "source": [
    "print(a.items())"
   ]
  },
  {
   "cell_type": "code",
   "execution_count": 22,
   "id": "1c0f015f",
   "metadata": {},
   "outputs": [
    {
     "name": "stdout",
     "output_type": "stream",
     "text": [
      "Sati\n"
     ]
    }
   ],
   "source": [
    "print(a[1])"
   ]
  },
  {
   "cell_type": "code",
   "execution_count": null,
   "id": "83b3b082",
   "metadata": {},
   "outputs": [],
   "source": []
  }
 ],
 "metadata": {
  "kernelspec": {
   "display_name": "Python 3 (ipykernel)",
   "language": "python",
   "name": "python3"
  },
  "language_info": {
   "codemirror_mode": {
    "name": "ipython",
    "version": 3
   },
   "file_extension": ".py",
   "mimetype": "text/x-python",
   "name": "python",
   "nbconvert_exporter": "python",
   "pygments_lexer": "ipython3",
   "version": "3.11.4"
  }
 },
 "nbformat": 4,
 "nbformat_minor": 5
}
